{
 "cells": [
  {
   "cell_type": "markdown",
   "metadata": {},
   "source": [
    "## Lab 03\n",
    "** CSC 19900 - Introduction to Data Science**\n",
    "\n",
    "** Friday, Nov. 3**"
   ]
  },
  {
   "cell_type": "markdown",
   "metadata": {},
   "source": [
    "### Part 1: Dot Product\n",
    "Write a function called `dotProduct()` that takes two parameters called `listA` and `listB`. The function should multiple each element of `listA` with the corresponding element of `listB`, sum these products, and then return the sum. \n",
    "\n",
    "For instance, if `listA` and `listB` are as follows:\n",
    "\n",
    "    listA = [3, 4, 2]\n",
    "    listB = [5, 2, 3]\n",
    "    \n",
    "...then `dotProduct(listA,listB)` should return `29` (since `15 + 8 + 6 = 29`).\n",
    "\n",
    "**Do not use numpy for this function.**"
   ]
  },
  {
   "cell_type": "code",
   "execution_count": 2,
   "metadata": {},
   "outputs": [],
   "source": [
    "def dotProduct(listA, listB):\n",
    "    total = 0\n",
    "    for i in range(0, len(listA)):\n",
    "        temp = listA[i] * listB[i]\n",
    "        total += temp\n",
    "    return total                  "
   ]
  },
  {
   "cell_type": "code",
   "execution_count": 6,
   "metadata": {
    "collapsed": true
   },
   "outputs": [],
   "source": [
    "#Could also be done this way\n",
    "def dotProduct(listA, listB):\n",
    "    total = 0\n",
    "    for i in range(0, len(listA)):\n",
    "        total = total + listA[i] * listB[i]\n",
    "    return total"
   ]
  },
  {
   "cell_type": "markdown",
   "metadata": {},
   "source": [
    "Two lists are defined below. Call `dotProduct()`, passing these two lists as arguments. "
   ]
  },
  {
   "cell_type": "code",
   "execution_count": 7,
   "metadata": {},
   "outputs": [
    {
     "name": "stdout",
     "output_type": "stream",
     "text": [
      "16190\n"
     ]
    }
   ],
   "source": [
    "L1 = [38, 9, 40, 34, 20, 6, 42, 36, 12, 1, 23, 46, 31, 19, 30, 33, 16, 43, 24, 41]\n",
    "L2 = [43, 13, 35, 14, 26, 3, 36, 15, 42, 44, 45, 20, 17, 6, 47, 40, 38, 41, 31, 24]\n",
    "print(dotProduct(L1,L2))"
   ]
  },
  {
   "cell_type": "markdown",
   "metadata": {},
   "source": [
    "### Part 2: Find Smallest Elements \n",
    "\n",
    "Write a function called `findSmall()` that takes two parameters: a list called `myList` and a number called `k`. The function should return a list than contains all of the elements of `myList` that are strictly less than `k`. The elements of the new list should be in the same order as in `myList`. "
   ]
  },
  {
   "cell_type": "code",
   "execution_count": 8,
   "metadata": {
    "collapsed": true
   },
   "outputs": [],
   "source": [
    "def findSmall(myList, k):\n",
    "    result = []\n",
    "    \n",
    "    for i in range(0, len(myList)):\n",
    "        if myList[i] < k:\n",
    "            result.append(myList[i])\n",
    "            \n",
    "    return result"
   ]
  },
  {
   "cell_type": "markdown",
   "metadata": {},
   "source": [
    "A list is defined below. Call `findSmall()`, using this list and the number 5 as parameters. Print the list that is returned. "
   ]
  },
  {
   "cell_type": "code",
   "execution_count": 9,
   "metadata": {},
   "outputs": [
    {
     "name": "stdout",
     "output_type": "stream",
     "text": [
      "[1.8, 4.8, 3.7, 2.4, 1.3]\n"
     ]
    }
   ],
   "source": [
    "listA = [1.8, 4.8, 5.4, 6.1, 5.0, 3.7, 6.1, 2.4, 1.3, 5.0, 6.5]\n",
    "\n",
    "print(findSmall(listA,5))"
   ]
  },
  {
   "cell_type": "markdown",
   "metadata": {},
   "source": [
    "### Part 3: Least Common Multiple\n",
    "\n",
    "The least common multiple (lcm) of two integers `a` and `b` is the smallest number that is divisible by both `a` and `b`. For instance:\n",
    "\n",
    "* The lcm of 2 and 5 is 10. \n",
    "* The lcm of 2 and 10 is 10. \n",
    "* The lcm of 4 and 10 is 20. \n",
    "\n",
    "Write a function called `lcm()` that takes two parameters, `a` and `b`, and returns the least common multiple of the two numbers. \n",
    "\n",
    "**Hint:** Start by checking if `1` is the least common multiple. If it isn't, then check `2`. Keep going until you find the correct answer. "
   ]
  },
  {
   "cell_type": "code",
   "execution_count": 18,
   "metadata": {
    "collapsed": true
   },
   "outputs": [],
   "source": [
    "def lcm(a,b):\n",
    "    \n",
    "    n = 1\n",
    "    \n",
    "    done = False\n",
    "    \n",
    "    while done == False:\n",
    "        if ( (n % a == 0) and (n % b == 0) ):\n",
    "            done = True\n",
    "        else:\n",
    "            n += 1\n",
    "    return n"
   ]
  },
  {
   "cell_type": "code",
   "execution_count": 20,
   "metadata": {
    "collapsed": true
   },
   "outputs": [],
   "source": [
    "#another way to do this\n",
    "def lcm(a,b):\n",
    "    \n",
    "    n = 1\n",
    "    \n",
    "    while True:\n",
    "        if ( (n % a == 0) and (n % b == 0) ):\n",
    "            return n\n",
    "        \n",
    "        n += 1"
   ]
  },
  {
   "cell_type": "code",
   "execution_count": 22,
   "metadata": {
    "collapsed": true
   },
   "outputs": [],
   "source": [
    "#another way to do this\n",
    "def lcm(a,b):\n",
    "    \n",
    "    n = 1\n",
    "    \n",
    "    while (n % a != 0) or (n % b != 0):\n",
    "        n += 1\n",
    "    return n"
   ]
  },
  {
   "cell_type": "markdown",
   "metadata": {},
   "source": [
    "Print the following three statements, with the bracketed expressions replaced with the appropriate values.\n",
    "\n",
    "    The least common multiple of 84 and 88 is [answer].\n",
    "    The least common multiple of 168 and 1638 is [answer]."
   ]
  },
  {
   "cell_type": "code",
   "execution_count": 23,
   "metadata": {},
   "outputs": [
    {
     "name": "stdout",
     "output_type": "stream",
     "text": [
      "1848\n",
      "6552\n"
     ]
    }
   ],
   "source": [
    "print(lcm(84,88))\n",
    "print(lcm(168,1638))"
   ]
  },
  {
   "cell_type": "markdown",
   "metadata": {},
   "source": [
    "### Part 4: Geometric Series\n",
    "\n",
    "A geometric series is a sum of the form: $a + a \\cdot r + a \\cdot r^2 + a \\cdot r^3 + ... + a \\cdot r^k$\n",
    "\n",
    "Write a function called `geom()` that takes two parameters, `a` and `r`. The function should calculate and return the sum: $a + a \\cdot r + a \\cdot r^2 + a \\cdot r^3 + ... + a \\cdot r^k$\n",
    "\n",
    "The last terms added into the sum, $a \\cdot r^k$, should be the first term for which $a \\cdot r^k < 0.001$.\n",
    "\n",
    "\n",
    "**Alternate Option:** If you are unable to figure out how to determine when the function should stop adding in terms, then write your function so that $a \\cdot r^{50}$ is the last term added to the sum. In this case, I will award you half credit. "
   ]
  },
  {
   "cell_type": "code",
   "execution_count": 26,
   "metadata": {
    "collapsed": true
   },
   "outputs": [],
   "source": [
    "def geom(a,r):\n",
    "    \n",
    "    total = a\n",
    "    term = a\n",
    "    \n",
    "    while term > 0.001:\n",
    "        term = term * r\n",
    "        total = total + term\n",
    "    return total"
   ]
  },
  {
   "cell_type": "markdown",
   "metadata": {},
   "source": [
    "Call `geom()` with `a = 12` and `r = 0.9`. Print the result."
   ]
  },
  {
   "cell_type": "code",
   "execution_count": 27,
   "metadata": {},
   "outputs": [
    {
     "name": "stdout",
     "output_type": "stream",
     "text": [
      "119.99177284641104\n"
     ]
    }
   ],
   "source": [
    "print(geom(12,0.9))"
   ]
  }
 ],
 "metadata": {
  "kernelspec": {
   "display_name": "Python 3",
   "language": "python",
   "name": "python3"
  },
  "language_info": {
   "codemirror_mode": {
    "name": "ipython",
    "version": 3
   },
   "file_extension": ".py",
   "mimetype": "text/x-python",
   "name": "python",
   "nbconvert_exporter": "python",
   "pygments_lexer": "ipython3",
   "version": "3.6.1"
  }
 },
 "nbformat": 4,
 "nbformat_minor": 2
}
