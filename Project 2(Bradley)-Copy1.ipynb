{
 "cells": [
  {
   "cell_type": "markdown",
   "metadata": {},
   "source": [
    "## Project 2\n",
    "\n",
    "### Marissa Bradley\n",
    "\n",
    "** CSC 19900 - Introduction to Data Science**\n",
    "\n",
    "** Due Monday, Dec. 4**"
   ]
  },
  {
   "cell_type": "markdown",
   "metadata": {},
   "source": [
    "### K-Means Clustering\n",
    "\n",
    "In this project, you will implement a K-Means clustering algorithm. K-Means clustering is an algorithm that is used to group observations into some number of predetermined groups, or clusters. Objects are grouped together is a manner that minimized the overall distances between objects within the same group. "
   ]
  },
  {
   "cell_type": "markdown",
   "metadata": {},
   "source": [
    "### Part 1: Import Packages and Load the Data\n",
    "\n",
    "Import the `numpy`, `pandas`, and `matplotlib.pyplot` packages under the names `np`, `pd`, and `plt`, respectively."
   ]
  },
  {
   "cell_type": "code",
   "execution_count": 1,
   "metadata": {
    "collapsed": true
   },
   "outputs": [],
   "source": [
    "import numpy as np\n",
    "import pandas as pd\n",
    "import matplotlib.pyplot as plt"
   ]
  },
  {
   "cell_type": "markdown",
   "metadata": {},
   "source": [
    "Use `read_csv()` to read the data stored in the `points.csv` file into a DataFrame called `points`. Print the head of the DataFrame."
   ]
  },
  {
   "cell_type": "code",
   "execution_count": 2,
   "metadata": {},
   "outputs": [
    {
     "name": "stdout",
     "output_type": "stream",
     "text": [
      "           x          y\n",
      "0  45.494536  49.674003\n",
      "1  44.345825  46.859928\n",
      "2  40.012567  47.843311\n",
      "3  52.022978  46.988596\n",
      "4  48.102121  46.926888\n"
     ]
    }
   ],
   "source": [
    "points = pd.read_csv('points.csv')\n",
    "print(points.head())"
   ]
  },
  {
   "cell_type": "markdown",
   "metadata": {},
   "source": [
    "The `points` DataFrame contains the `(x,y)` coordinates of several points. Use `plt.scatter()` to create a scatter plot of these points. "
   ]
  },
  {
   "cell_type": "code",
   "execution_count": 3,
   "metadata": {
    "scrolled": false
   },
   "outputs": [
    {
     "data": {
      "image/png": "[encoded data removed]",
      "text/plain": [
       "<matplotlib.figure.Figure at 0x96d7470>"
      ]
     },
     "metadata": {},
     "output_type": "display_data"
    }
   ],
   "source": [
    "plt.scatter(points.loc[:,'x'], points.loc[:,'y'])\n",
    "plt.show()"
   ]
  },
  {
   "cell_type": "markdown",
   "metadata": {},
   "source": [
    "### Part 2: Write Helper Functions\n",
    "\n",
    "Create a function called `distance()`. The function should take two parameters `P` and `Q`, which are intended to represent points. The function should return the distance between `P` and `Q`. "
   ]
  },
  {
   "cell_type": "code",
   "execution_count": 4,
   "metadata": {
    "collapsed": true
   },
   "outputs": [],
   "source": [
    "def distance(P,Q):\n",
    "    return ( (P[0] - Q[0])**2 + (P[1] - Q[1])**2 )**0.5"
   ]
  },
  {
   "cell_type": "markdown",
   "metadata": {},
   "source": [
    "Create the functions `assign()`, `newCenters()`, and `icDist()` described in the instructions. You can create all of these in a single cell, or you can use multiple cells. \n"
   ]
  },
  {
   "cell_type": "code",
   "execution_count": 5,
   "metadata": {
    "collapsed": true
   },
   "outputs": [],
   "source": [
    "def assign(pts,ctrs):\n",
    "    clusters = []\n",
    "    for i in range(0,len(pts)):\n",
    "        pt1 = [pts.iloc[i,0],pts.iloc[i,1]]\n",
    "        pt2 = [ctrs.iloc[0,0],ctrs.iloc[0,1]]\n",
    "        tempAssign = 0\n",
    "        minDist = distance(pt1,pt2)\n",
    "        for j in range(0,len(ctrs)): # find distance between pts[i] and centers[j]\n",
    "            pt2 = [ctrs.iloc[j,0],ctrs.iloc[j,1]]\n",
    "            if distance(pt1,pt2) < minDist:\n",
    "                minDist = distance(pt1,pt2)\n",
    "                tempAssign = j\n",
    "            clusters.append(tempAssign)\n",
    "    return clusters"
   ]
  },
  {
   "cell_type": "code",
   "execution_count": 24,
   "metadata": {
    "collapsed": true
   },
   "outputs": [],
   "source": [
    "def newCenters(pts,clusters,K):\n",
    "    xAvg = []\n",
    "    yAvg = []\n",
    "    for i in range(0,K):\n",
    "        sel = (clusters == i)\n",
    "        selpts = pts.iloc[sel,:]\n",
    "        #select all points in cluster i\n",
    "        \n",
    "        #average x coordinates. Store xAvg in list.\n",
    "        \n",
    "        #average y coordinates. Store in yAvg list.\n",
    "        \n",
    "    #Add lists to a dataframe\n",
    "    \n",
    "    #return dataframe"
   ]
  },
  {
   "cell_type": "code",
   "execution_count": 25,
   "metadata": {
    "collapsed": true
   },
   "outputs": [],
   "source": [
    "def icDist(pts,clusters,ctrs):\n",
    "    totalDist = 0\n",
    "    for i in range(0,len(pts)):\n",
    "        #Find the distance between: pts[i] and ctrs[clusters[i]]\n",
    "        #total += newDist\n",
    "        "
   ]
  },
  {
   "cell_type": "markdown",
   "metadata": {},
   "source": [
    "### Part 3: Write the kMeans Function\n",
    "\n",
    "Create a function called `kMeans()`. This function should take two parameters: `pts` and `K`. The parameter `pts` should be a DataFrame containing the points to be clustered, while `K` should state the number of desired clusters. \n",
    "\n",
    "The `kMeans()` function should repeat the process of finding centers, assigning clusters, and calculating inter-cluster distance until two consecutive inter-cluster distances are within 0.0001 of each other. \n",
    "\n",
    "The function does not need to return a value. Instead, it should generate a scatter plot of the points with each point colored to indicate its assigned cluster. "
   ]
  },
  {
   "cell_type": "code",
   "execution_count": 9,
   "metadata": {
    "collapsed": true
   },
   "outputs": [],
   "source": [
    "def kMeans(pts, K):\n",
    "    sel = np.random.choice(range(0,len(pts)),K,replace = False)\n",
    "    centers = pts.iloc[sel,:]\n",
    "    curDist = icDist(pts,centers,clusters)\n",
    "    oldDist = icDist(pts,centers,clusters)\n",
    "    while abs(oldDist - curDist) > .0001:\n",
    "        oldDist = curDist\n",
    "        clusters = assign(pts,centers)\n",
    "        centers = newCenters(pts,clusters,K)\n",
    "        curDist = icDist(pts,centers,clusters)\n",
    "        plt.scatter(pts.loc[:,'x'],pts.loc[:,'y'],c= clusters)\n",
    "        plt.scatter(centers.loc[:,'x'],centers.loc[:,'y'],c = 'Red')\n",
    "        plt.show()"
   ]
  },
  {
   "cell_type": "code",
   "execution_count": 30,
   "metadata": {
    "collapsed": true
   },
   "outputs": [],
   "source": []
  },
  {
   "cell_type": "markdown",
   "metadata": {},
   "source": [
    "### Part 4: Run Clustering Algorithm\n",
    "\n",
    "Run the `kMeans()` algorithm on the `points` DataFrame, using `K = 2`, `K = 3`, `K = 4`, and `K = 5`. Use a different cell for each function call. To increase the chances that we all get the same results, set the seed equal to 1 before each function call. "
   ]
  },
  {
   "cell_type": "code",
   "execution_count": null,
   "metadata": {
    "collapsed": true
   },
   "outputs": [],
   "source": []
  },
  {
   "cell_type": "code",
   "execution_count": 10,
   "metadata": {
    "scrolled": false
   },
   "outputs": [
    {
     "ename": "NameError",
     "evalue": "name 'icDist' is not defined",
     "output_type": "error",
     "traceback": [
      "\u001b[1;31m---------------------------------------------------------------------------\u001b[0m",
      "\u001b[1;31mNameError\u001b[0m                                 Traceback (most recent call last)",
      "\u001b[1;32m<ipython-input-10-18d5ff4acefe>\u001b[0m in \u001b[0;36m<module>\u001b[1;34m()\u001b[0m\n\u001b[0;32m      2\u001b[0m \u001b[0mK\u001b[0m \u001b[1;33m=\u001b[0m \u001b[1;36m2\u001b[0m\u001b[1;33m\u001b[0m\u001b[0m\n\u001b[0;32m      3\u001b[0m \u001b[0mpts\u001b[0m \u001b[1;33m=\u001b[0m \u001b[0mpoints\u001b[0m\u001b[1;33m\u001b[0m\u001b[0m\n\u001b[1;32m----> 4\u001b[1;33m \u001b[0mkMeans\u001b[0m\u001b[1;33m(\u001b[0m\u001b[0mpts\u001b[0m\u001b[1;33m,\u001b[0m\u001b[0mK\u001b[0m\u001b[1;33m)\u001b[0m\u001b[1;33m\u001b[0m\u001b[0m\n\u001b[0m",
      "\u001b[1;32m<ipython-input-9-51569f4ed083>\u001b[0m in \u001b[0;36mkMeans\u001b[1;34m(pts, K)\u001b[0m\n\u001b[0;32m      2\u001b[0m     \u001b[0msel\u001b[0m \u001b[1;33m=\u001b[0m \u001b[0mnp\u001b[0m\u001b[1;33m.\u001b[0m\u001b[0mrandom\u001b[0m\u001b[1;33m.\u001b[0m\u001b[0mchoice\u001b[0m\u001b[1;33m(\u001b[0m\u001b[0mrange\u001b[0m\u001b[1;33m(\u001b[0m\u001b[1;36m0\u001b[0m\u001b[1;33m,\u001b[0m\u001b[0mlen\u001b[0m\u001b[1;33m(\u001b[0m\u001b[0mpts\u001b[0m\u001b[1;33m)\u001b[0m\u001b[1;33m)\u001b[0m\u001b[1;33m,\u001b[0m\u001b[0mK\u001b[0m\u001b[1;33m,\u001b[0m\u001b[0mreplace\u001b[0m \u001b[1;33m=\u001b[0m \u001b[1;32mFalse\u001b[0m\u001b[1;33m)\u001b[0m\u001b[1;33m\u001b[0m\u001b[0m\n\u001b[0;32m      3\u001b[0m     \u001b[0mcenters\u001b[0m \u001b[1;33m=\u001b[0m \u001b[0mpts\u001b[0m\u001b[1;33m.\u001b[0m\u001b[0miloc\u001b[0m\u001b[1;33m[\u001b[0m\u001b[0msel\u001b[0m\u001b[1;33m,\u001b[0m\u001b[1;33m:\u001b[0m\u001b[1;33m]\u001b[0m\u001b[1;33m\u001b[0m\u001b[0m\n\u001b[1;32m----> 4\u001b[1;33m     \u001b[0mcurDist\u001b[0m \u001b[1;33m=\u001b[0m \u001b[0micDist\u001b[0m\u001b[1;33m(\u001b[0m\u001b[0mpts\u001b[0m\u001b[1;33m,\u001b[0m\u001b[0mcenters\u001b[0m\u001b[1;33m,\u001b[0m\u001b[0mclusters\u001b[0m\u001b[1;33m)\u001b[0m\u001b[1;33m\u001b[0m\u001b[0m\n\u001b[0m\u001b[0;32m      5\u001b[0m     \u001b[0moldDist\u001b[0m \u001b[1;33m=\u001b[0m \u001b[0micDist\u001b[0m\u001b[1;33m(\u001b[0m\u001b[0mpts\u001b[0m\u001b[1;33m,\u001b[0m\u001b[0mcenters\u001b[0m\u001b[1;33m,\u001b[0m\u001b[0mclusters\u001b[0m\u001b[1;33m)\u001b[0m\u001b[1;33m\u001b[0m\u001b[0m\n\u001b[0;32m      6\u001b[0m     \u001b[1;32mwhile\u001b[0m \u001b[0mabs\u001b[0m\u001b[1;33m(\u001b[0m\u001b[0moldDist\u001b[0m \u001b[1;33m-\u001b[0m \u001b[0mcurDist\u001b[0m\u001b[1;33m)\u001b[0m \u001b[1;33m>\u001b[0m \u001b[1;36m.0001\u001b[0m\u001b[1;33m:\u001b[0m\u001b[1;33m\u001b[0m\u001b[0m\n",
      "\u001b[1;31mNameError\u001b[0m: name 'icDist' is not defined"
     ]
    }
   ],
   "source": [
    "np.random.seed(1)\n",
    "K = 2\n",
    "pts = points\n",
    "kMeans(pts,K)"
   ]
  },
  {
   "cell_type": "code",
   "execution_count": null,
   "metadata": {
    "collapsed": true
   },
   "outputs": [],
   "source": [
    "np.random.seed(1)\n",
    "K = 3\n",
    "kMeans(points,K)"
   ]
  },
  {
   "cell_type": "code",
   "execution_count": null,
   "metadata": {
    "collapsed": true
   },
   "outputs": [],
   "source": [
    "np.random.seed(1)\n",
    "K = 4\n",
    "kMeans(points,K)"
   ]
  },
  {
   "cell_type": "code",
   "execution_count": null,
   "metadata": {
    "collapsed": true
   },
   "outputs": [],
   "source": [
    "np.random.seed(1)\n",
    "K = 5\n",
    "kMeans(points,K)"
   ]
  },
  {
   "cell_type": "markdown",
   "metadata": {},
   "source": [
    "### Part 5: New Data\n",
    "\n",
    "We will now randomly generate a new data set to run the clustering algorithm on. The cell below randomly generates a new set of points, and then creates a scatter plot of these points. Run this cell several times. \n",
    "\n",
    "Uncomments the line that sets the seed. Select a seed to use in your project. Do not use the same number as someone else. "
   ]
  },
  {
   "cell_type": "code",
   "execution_count": null,
   "metadata": {
    "collapsed": true,
    "scrolled": true
   },
   "outputs": [],
   "source": [
    "#np.random.seed(1535)\n",
    "x = [0]\n",
    "y = [0]\n",
    "for i in range(0,1000):\n",
    "    x.append(x[-1] + np.random.uniform(-1,1))\n",
    "    y.append(y[-1] + np.random.uniform(-1,1))\n",
    "\n",
    "plt.scatter(x,y)\n",
    "plt.show()"
   ]
  },
  {
   "cell_type": "markdown",
   "metadata": {},
   "source": [
    "Create a DataFrame called `df`. This DataFrame should have two columns, `x` and `y`, whose values should come from the lists `x` and `y` defined in the previous cell. \n",
    "\n",
    "Then run the K-Means algorithm on the points in the DataFrame. Use K = 5. "
   ]
  },
  {
   "cell_type": "code",
   "execution_count": null,
   "metadata": {
    "collapsed": true
   },
   "outputs": [],
   "source": [
    "df = pd.DataFrame({'x':x,'y':y})\n",
    "K = 5\n",
    "kMeans(df,K)"
   ]
  }
 ],
 "metadata": {
  "kernelspec": {
   "display_name": "Python 3",
   "language": "python",
   "name": "python3"
  },
  "language_info": {
   "codemirror_mode": {
    "name": "ipython",
    "version": 3
   },
   "file_extension": ".py",
   "mimetype": "text/x-python",
   "name": "python",
   "nbconvert_exporter": "python",
   "pygments_lexer": "ipython3",
   "version": "3.6.1"
  }
 },
 "nbformat": 4,
 "nbformat_minor": 2
}
