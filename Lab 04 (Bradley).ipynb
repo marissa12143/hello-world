{
 "cells": [
  {
   "cell_type": "markdown",
   "metadata": {},
   "source": [
    "## Lab 04\n",
    "** CSC 19900 - Introduction to Data Science**\n",
    "\n",
    "** Friday, Dec. 1**\n",
    "\n",
    "Marissa Bradley"
   ]
  },
  {
   "cell_type": "code",
   "execution_count": 1,
   "metadata": {
    "collapsed": true
   },
   "outputs": [],
   "source": [
    "import numpy as np\n",
    "import matplotlib.pyplot as plt\n",
    "import pandas as pd"
   ]
  },
  {
   "cell_type": "markdown",
   "metadata": {},
   "source": [
    "### SSE Function\n",
    "\n",
    "Write a function called `SSE()`. This function is intended to calculate a \"score\" that indicates how well a given line fits the data. A low `SSE` score is better. \n",
    "\n",
    "The function `SSE` should take four parameters: `m`, `b`, `x`, and `y`. \n",
    "\n",
    "* `m` is the slope of the line currently being considered. \n",
    "* `b` is the intercept of the line currently being considered. \n",
    "* `x` is an array of `x` coordinates.\n",
    "* `y` is an array of `y` coordinates.\n",
    "\n",
    "The function should output the total of the sum of squared errors. "
   ]
  },
  {
   "cell_type": "code",
   "execution_count": 2,
   "metadata": {},
   "outputs": [],
   "source": [
    "\n",
    "def SSE(m,b,x,y):\n",
    "    total = 0\n",
    "    for i in range(0,len(x)):\n",
    "        yVal = m * x[i] + b\n",
    "        SEerror = y[i] - yVal\n",
    "        SQerror = SEerror**2\n",
    "        total += SQerror\n",
    "    return total"
   ]
  },
  {
   "cell_type": "markdown",
   "metadata": {},
   "source": [
    "To test your `SSE()` function, run the test code below. It should return the value 61. \n",
    "\n",
    "    print(SSE(2,7, [1,1], [3,4]))"
   ]
  },
  {
   "cell_type": "code",
   "execution_count": 3,
   "metadata": {
    "scrolled": true
   },
   "outputs": [
    {
     "name": "stdout",
     "output_type": "stream",
     "text": [
      "61\n"
     ]
    }
   ],
   "source": [
    "print(SSE(2,7, [1,1], [3,4]))"
   ]
  },
  {
   "cell_type": "markdown",
   "metadata": {},
   "source": [
    "### minSSE Function\n",
    "\n",
    "Write a function called `minSSE()`. This function is intended to find the line with the best possible `SSE` score. It accomplishes this as follows:\n",
    "\n",
    "* It starts with an initial \"guess\" that `m` and `b` are both 0. \n",
    "* It will consider four slight adjustments to the parameters for the line:\n",
    "    * m + 0.01 and b\n",
    "    * m - 0.01 and b\n",
    "    * m and b + 0.01\n",
    "    * m and b - 0.01\n",
    "* It will calculate the `SSE` score for each of these four new sets of parameters. \n",
    "* If none of the new `SSE` scores are better than our current `SSE` score, then the function ends. \n",
    "* If one of the new values is lower than the current `SSE` score, then that new score will be stored, and `m` and `b` will be updated to new values. \n",
    "\n",
    "When the function is finished, it should return the values it found for `m` and `b`, rounded to 2 decimal places. \n",
    "    "
   ]
  },
  {
   "cell_type": "code",
   "execution_count": 8,
   "metadata": {},
   "outputs": [],
   "source": [
    "def minSSE(x,y):\n",
    "    m = 0\n",
    "    b = 0\n",
    "    curMin = SSE(m,b,x,y)\n",
    "    done = False\n",
    "    while done == False:\n",
    "        curMin = SSE(m,b,x,y)\n",
    "        s1 = SSE(m + 0.01,b,x,y)\n",
    "        s2 = SSE(m - 0.01,b,x,y)\n",
    "        s3 = SSE(m, b + 0.01,x,y)\n",
    "        s4 = SSE(m , b - 0.01,x,y)\n",
    "        if min(s1,s2,s3,s4) >= curMin:\n",
    "            done = True\n",
    "        else:\n",
    "            curMin = min(s1,s2,s3,s4)\n",
    "            if s1 == curMin:\n",
    "                m += 0.01\n",
    "            elif s2 == curMin:\n",
    "                m += -0.01\n",
    "            elif s3 == curMin:\n",
    "                b += 0.01\n",
    "            elif s4 == curMin:\n",
    "                b += -0.01\n",
    "                \n",
    "    return round(m,2), round(b,2)"
   ]
  },
  {
   "cell_type": "markdown",
   "metadata": {},
   "source": [
    "### Apply the minSSE Function\n",
    "\n",
    "We will now use the `minSSE()` function to find the line that best fits a sample of points. \n",
    "\n",
    "The cell below reads the file `points.txt` into a data frame, and then stores the columns into arrays called `x` and `y`. The entries in these arrays refer to the coordinates of points."
   ]
  },
  {
   "cell_type": "code",
   "execution_count": 9,
   "metadata": {},
   "outputs": [],
   "source": [
    "df = pd.read_csv(\"points.csv\")\n",
    "x = df.loc[:,'x']\n",
    "y = df.loc[:,'y']"
   ]
  },
  {
   "cell_type": "markdown",
   "metadata": {},
   "source": [
    "The cell below creates a scatterplot of the points."
   ]
  },
  {
   "cell_type": "code",
   "execution_count": 10,
   "metadata": {},
   "outputs": [
    {
     "data": {
      "image/png": "[encoded data removed]",
      "text/plain": [
       "<matplotlib.figure.Figure at 0x81d9668>"
      ]
     },
     "metadata": {},
     "output_type": "display_data"
    }
   ],
   "source": [
    "plt.scatter(x,y)\n",
    "plt.show()"
   ]
  },
  {
   "cell_type": "markdown",
   "metadata": {},
   "source": [
    "Called the minSSE() function on the arrays `x` and `y`. Store the results in variables calleed `slope` and `intercept`. Then print the following statements, with the bracketed expressions replaced with the appropriate values:\n",
    "\n",
    "    The slope of the line of best fit is [slope].\n",
    "    The intercept of the line of best fit is [intercept]."
   ]
  },
  {
   "cell_type": "code",
   "execution_count": 11,
   "metadata": {},
   "outputs": [
    {
     "name": "stdout",
     "output_type": "stream",
     "text": [
      "The slope of the line of best fit is 1.23.\n",
      "The intercept of the line of best fit is 3.47.\n"
     ]
    }
   ],
   "source": [
    "slope,intercept = minSSE(x,y)\n",
    "print(\"The slope of the line of best fit is \" + str(slope) + \".\")\n",
    "print(\"The intercept of the line of best fit is \" + str(intercept) + \".\")"
   ]
  },
  {
   "cell_type": "markdown",
   "metadata": {},
   "source": [
    "The cell below creates a new scatter plot, with the line of best fit displayed. "
   ]
  },
  {
   "cell_type": "code",
   "execution_count": 12,
   "metadata": {},
   "outputs": [
    {
     "data": {
      "image/png": "[encoded data removed]",
      "text/plain": [
       "<matplotlib.figure.Figure at 0x97d7eb8>"
      ]
     },
     "metadata": {},
     "output_type": "display_data"
    }
   ],
   "source": [
    "y0 = slope * 10 + intercept\n",
    "y1 = slope * 80 + intercept\n",
    "plt.scatter(x,y)\n",
    "plt.plot([10,80],[y0,y1], c='red')\n",
    "plt.show()"
   ]
  }
 ],
 "metadata": {
  "kernelspec": {
   "display_name": "Python 3",
   "language": "python",
   "name": "python3"
  },
  "language_info": {
   "codemirror_mode": {
    "name": "ipython",
    "version": 3
   },
   "file_extension": ".py",
   "mimetype": "text/x-python",
   "name": "python",
   "nbconvert_exporter": "python",
   "pygments_lexer": "ipython3",
   "version": "3.6.1"
  }
 },
 "nbformat": 4,
 "nbformat_minor": 2
}
