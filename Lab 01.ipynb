{
 "cells": [
  {
   "cell_type": "markdown",
   "metadata": {},
   "source": [
    "Marissa Bradley Lab 01"
   ]
  },
  {
   "cell_type": "markdown",
   "metadata": {},
   "source": [
    "## Lab 01\n",
    "** CSC 19900 - Introduction to Data Science**\n",
    "\n",
    "** Friday, Sept. 15**"
   ]
  },
  {
   "cell_type": "markdown",
   "metadata": {},
   "source": [
    "### Part 1\n",
    "\n",
    "The list below contains the first names of employees working on the same team at a company. The team leader, **Dave**, is listed first in the list. Complete each of the following instructions, printing the list each time. Use only one code cell per instruction. "
   ]
  },
  {
   "cell_type": "code",
   "execution_count": 1,
   "metadata": {
    "collapsed": true
   },
   "outputs": [],
   "source": [
    "Employees = [\"Dave\", \"Marie\", \"Gina\", \"Emmett\", \"Paul\", \"Anna\", \"Glenn\"]"
   ]
  },
  {
   "cell_type": "markdown",
   "metadata": {},
   "source": [
    "Two new employees join the team. Add **Rachel** and **Chelsea** to the end of the list. "
   ]
  },
  {
   "cell_type": "code",
   "execution_count": 2,
   "metadata": {
    "collapsed": true
   },
   "outputs": [],
   "source": [
    "Employees.append(\"Rachel\")\n",
    "Employees.append(\"Chelsea\")"
   ]
  },
  {
   "cell_type": "markdown",
   "metadata": {},
   "source": [
    "**Marie** and **Emmett** accepted jobs other companies. Remove them both from the list. "
   ]
  },
  {
   "cell_type": "code",
   "execution_count": 3,
   "metadata": {},
   "outputs": [
    {
     "name": "stdout",
     "output_type": "stream",
     "text": [
      "['Dave', 'Gina', 'Paul', 'Anna', 'Glenn', 'Rachel', 'Chelsea']\n"
     ]
    }
   ],
   "source": [
    "Employees.remove(\"Marie\")\n",
    "Employees.remove(\"Emmett\")\n",
    "print(Employees)"
   ]
  },
  {
   "cell_type": "markdown",
   "metadata": {},
   "source": [
    "**Dave** is moving to another team within the department. A new team leader named **Erin** will take his place as team leader. Update the list to reflect this change. **Erin** should appear at the beginning of the list."
   ]
  },
  {
   "cell_type": "code",
   "execution_count": 4,
   "metadata": {},
   "outputs": [
    {
     "name": "stdout",
     "output_type": "stream",
     "text": [
      "['Erin', 'Gina', 'Paul', 'Anna', 'Glenn', 'Rachel', 'Chelsea']\n"
     ]
    }
   ],
   "source": [
    "Employees[0] = \"Erin\"\n",
    "print(Employees)"
   ]
  },
  {
   "cell_type": "markdown",
   "metadata": {},
   "source": [
    "**Erin** did not work out well as the team leader. She will stay on the team, but **Anna** will be taking over as the new team leader. Move **Anna** to the front of the list, leaving the other employees in their current order. "
   ]
  },
  {
   "cell_type": "code",
   "execution_count": 5,
   "metadata": {},
   "outputs": [
    {
     "name": "stdout",
     "output_type": "stream",
     "text": [
      "['Anna', 'Erin', 'Gina', 'Paul', 'Glenn', 'Rachel', 'Chelsea']\n"
     ]
    }
   ],
   "source": [
    "Employees.remove(\"Anna\")\n",
    "Employees.insert(0, \"Anna\")\n",
    "print(Employees)"
   ]
  },
  {
   "cell_type": "markdown",
   "metadata": {},
   "source": [
    "### Part 2\n",
    "\n",
    "The list defined in the cell below contains 5 integer values. Find the mean (average) of each pair of consecutive elements (i.e. the 1st and 2nd elements, the 2nd and 3rd elements, the 3rd and 4th elements, and the 4th and 5th elements). For each pair of consecutuve elements, print the following message:\n",
    "\n",
    "    The mean of [a] and [b] is [avg].\n",
    "    \n",
    "Replace the expressions in square braces with their appropriate numerical values. You are not required to use a loop."
   ]
  },
  {
   "cell_type": "code",
   "execution_count": 11,
   "metadata": {
    "scrolled": true
   },
   "outputs": [
    {
     "name": "stdout",
     "output_type": "stream",
     "text": [
      "The mean of 5 and 8 is 6.5.\n",
      "The mean of 8 and 14 is 11.0.\n",
      "The mean of 14 and 18 is 16.0.\n",
      "The mean of 18 and 23 is 20.5.\n"
     ]
    }
   ],
   "source": [
    "myList = [5, 8, 14, 18, 23]\n",
    "\n",
    "avg1 = (myList[0] + myList[1]) / 2\n",
    "print(\"The mean of \" + str(myList[0]) + \" and \" +str(myList[1]) + \" is \" + str(avg1) + \".\")\n",
    "\n",
    "avg2 = (myList[1] + myList[2]) / 2\n",
    "print(\"The mean of \" + str(myList[1]) + \" and \" +str(myList[2]) + \" is \" + str(avg2) + \".\")\n",
    "\n",
    "avg3 = (myList[2] + myList[3]) / 2\n",
    "print(\"The mean of \" + str(myList[2]) + \" and \" +str(myList[3]) + \" is \" + str(avg3) + \".\")\n",
    "\n",
    "avg4 = (myList[3] + myList[4]) / 2\n",
    "print(\"The mean of \" + str(myList[3]) + \" and \" +str(myList[4]) + \" is \" + str(avg4) + \".\")"
   ]
  },
  {
   "cell_type": "markdown",
   "metadata": {},
   "source": [
    "### Part 3\n",
    "\n",
    "The code in the cell below creates a randomly generated list if 99 integers. Run this cell without making any changes to it. "
   ]
  },
  {
   "cell_type": "code",
   "execution_count": 20,
   "metadata": {
    "collapsed": true
   },
   "outputs": [],
   "source": [
    "import random\n",
    "random.seed(37)\n",
    "rList = random.sample(range(500), 99)"
   ]
  },
  {
   "cell_type": "markdown",
   "metadata": {
    "collapsed": true
   },
   "source": [
    "Create a list called `sList` that contains the same elements of rList, but sorted in increasing order. The contents of `rList` should not be changed. **Do not print either list.**"
   ]
  },
  {
   "cell_type": "code",
   "execution_count": 21,
   "metadata": {
    "collapsed": true
   },
   "outputs": [],
   "source": [
    "sList = sorted(rList)"
   ]
  },
  {
   "cell_type": "markdown",
   "metadata": {},
   "source": [
    "Create three new equally sized lists:\n",
    "\n",
    "* `botSlice` should contain the smallest 1/3 of the elements in `rlist`. \n",
    "* `midSlice` should contain the middle 1/3 of the elements in `rlist`. \n",
    "* `topSlice` should contain the largest 1/3 of the elements in `rlist`.\n",
    "\n",
    "I will award 3 bonus points if you write your code so that it works for any list whose size is a multiple of 3.\n",
    "\n",
    "**Do not print these lists.**"
   ]
  },
  {
   "cell_type": "code",
   "execution_count": 22,
   "metadata": {
    "collapsed": true
   },
   "outputs": [],
   "source": [
    "botSlice = sList[:33]\n",
    "midSlice = sList[33:66]\n",
    "topSlice = sList[66:]"
   ]
  },
  {
   "cell_type": "markdown",
   "metadata": {},
   "source": [
    "Print the following two messages, with the appropriate numerical values inserted:\n",
    "\n",
    "    The smallest element of botSlice is [a].\n",
    "    The largest element of botSlice is [b].\n",
    "    \n",
    "Then print similar messages for the lists `midSlice` and `topSlice`. Insert newlines between the statements for the different lists. \n",
    "\n",
    "So, your output should consist of two messages for `botSlice`, followed by a newline, then two messages for `midSlice`, followed by a newline, and finally two messages for `topSlice`. "
   ]
  },
  {
   "cell_type": "code",
   "execution_count": 32,
   "metadata": {},
   "outputs": [
    {
     "name": "stdout",
     "output_type": "stream",
     "text": [
      "The smallest element of botSlice is  3\n",
      "The largest element of botSlice is 189\n",
      "The smallest element of midSlice is  193\n",
      "The largest element of midSlice is 349\n",
      "The smallest element of topSlice is  358\n",
      "The largest element of topSlice is 499\n"
     ]
    }
   ],
   "source": [
    "print(\"The smallest element of botSlice is \", min(botSlice))\n",
    "print(\"The largest element of botSlice is\", max(botSlice))\n",
    "\n",
    "print(\"The smallest element of midSlice is \", min(midSlice))\n",
    "print(\"The largest element of midSlice is\", max(midSlice))\n",
    "\n",
    "print(\"The smallest element of topSlice is \", min(topSlice))\n",
    "print(\"The largest element of topSlice is\", max(topSlice))"
   ]
  },
  {
   "cell_type": "markdown",
   "metadata": {},
   "source": [
    "Print the following messages, with the appropriate numerical values inserted:\n",
    "\n",
    "    The sum of the elements in rList is [sum1].\n",
    "    The sum of the elements in botSlice is [sum2].\n",
    "    The sum of the elements in midSlice is [sum3].\n",
    "    The sum of the elements in topSlice is [sum4]."
   ]
  },
  {
   "cell_type": "code",
   "execution_count": 26,
   "metadata": {},
   "outputs": [
    {
     "name": "stdout",
     "output_type": "stream",
     "text": [
      "The sum of the elements in rList is 26260\n",
      "The sum of the elements in botSlice is 2840\n",
      "The sum of the elements in midSlice is 9220\n",
      "The sum of the elements in topSlice is 14200\n"
     ]
    }
   ],
   "source": [
    "print(\"The sum of the elements in rList is\", sum(rList))\n",
    "print(\"The sum of the elements in botSlice is\", sum(botSlice))\n",
    "print(\"The sum of the elements in midSlice is\", sum(midSlice))\n",
    "print(\"The sum of the elements in topSlice is\", sum(topSlice))"
   ]
  }
 ],
 "metadata": {
  "kernelspec": {
   "display_name": "Python 3",
   "language": "python",
   "name": "python3"
  },
  "language_info": {
   "codemirror_mode": {
    "name": "ipython",
    "version": 3
   },
   "file_extension": ".py",
   "mimetype": "text/x-python",
   "name": "python",
   "nbconvert_exporter": "python",
   "pygments_lexer": "ipython3",
   "version": "3.6.1"
  }
 },
 "nbformat": 4,
 "nbformat_minor": 2
}
