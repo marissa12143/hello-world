{
 "cells": [
  {
   "cell_type": "markdown",
   "metadata": {},
   "source": [
    "## Project 1\n",
    "\n",
    "### Marissa Bradley\n",
    "\n",
    "** CSC 19900 - Introduction to Data Science**\n",
    "\n",
    "** Due Monday, Oct. 23**"
   ]
  },
  {
   "cell_type": "markdown",
   "metadata": {},
   "source": [
    "The online retail company Yasuni has decided to start selling widgets. To help them better place targeted ads for widgets, they would like to build a Naive Baye's classifier that tries to predict whether or not a particular customer will purchase a widget based on that customer's gender and age. \n",
    "\n",
    "To gather data to train the model, they conduct a marketing study. They collect information on several customers who were presented with ads for widgets. For each customer, they recorded the following information:\n",
    "\n",
    "* **Sex** - The customer's sex, recorded as 'M' for male and 'F' for femaile. \n",
    "* **AgeGroup** - The customer's age group, recorded as either 'A', 'B', or 'C'. The age groups are defined as follows:\n",
    "    - Group A consists of customers 25 years old or younger.\n",
    "    - Group B consists of customers between 26 and 50 years old.\n",
    "    - Group C consists of customers older than 50 years old. \n",
    "* **Purchase** - Records whether or not the customer purchased a widget. A purchase is indicated with a value of 1, whereas a 0 indicates that the customer did not buy a widget.\n",
    "\n",
    "The results of the study are contained in the file [marketing.csv](https://lindenwood.instructure.com/courses/24551/files/folder/Projects?preview=11742947). Please download this file into the same folder that contains this notebook. Then run the cell below, which loads the pandas package and reads the data into a data frame called `df`.  "
   ]
  },
  {
   "cell_type": "code",
   "execution_count": 1,
   "metadata": {
    "collapsed": true
   },
   "outputs": [],
   "source": [
    "import pandas as pd\n",
    "df = pd.read_csv('marketing.csv')"
   ]
  },
  {
   "cell_type": "markdown",
   "metadata": {},
   "source": [
    "The code below will display the first five rows of the data frame `df`. "
   ]
  },
  {
   "cell_type": "code",
   "execution_count": 2,
   "metadata": {
    "scrolled": true
   },
   "outputs": [
    {
     "data": {
      "text/html": [
       "<div>\n",
       "<style>\n",
       "    .dataframe thead tr:only-child th {\n",
       "        text-align: right;\n",
       "    }\n",
       "\n",
       "    .dataframe thead th {\n",
       "        text-align: left;\n",
       "    }\n",
       "\n",
       "    .dataframe tbody tr th {\n",
       "        vertical-align: top;\n",
       "    }\n",
       "</style>\n",
       "<table border=\"1\" class=\"dataframe\">\n",
       "  <thead>\n",
       "    <tr style=\"text-align: right;\">\n",
       "      <th></th>\n",
       "      <th>Purchase</th>\n",
       "      <th>Sex</th>\n",
       "      <th>AgeGroup</th>\n",
       "    </tr>\n",
       "  </thead>\n",
       "  <tbody>\n",
       "    <tr>\n",
       "      <th>0</th>\n",
       "      <td>0</td>\n",
       "      <td>M</td>\n",
       "      <td>A</td>\n",
       "    </tr>\n",
       "    <tr>\n",
       "      <th>1</th>\n",
       "      <td>1</td>\n",
       "      <td>M</td>\n",
       "      <td>B</td>\n",
       "    </tr>\n",
       "    <tr>\n",
       "      <th>2</th>\n",
       "      <td>1</td>\n",
       "      <td>F</td>\n",
       "      <td>B</td>\n",
       "    </tr>\n",
       "    <tr>\n",
       "      <th>3</th>\n",
       "      <td>0</td>\n",
       "      <td>F</td>\n",
       "      <td>A</td>\n",
       "    </tr>\n",
       "    <tr>\n",
       "      <th>4</th>\n",
       "      <td>1</td>\n",
       "      <td>M</td>\n",
       "      <td>B</td>\n",
       "    </tr>\n",
       "  </tbody>\n",
       "</table>\n",
       "</div>"
      ],
      "text/plain": [
       "   Purchase Sex AgeGroup\n",
       "0         0   M        A\n",
       "1         1   M        B\n",
       "2         1   F        B\n",
       "3         0   F        A\n",
       "4         1   M        B"
      ]
     },
     "execution_count": 2,
     "metadata": {},
     "output_type": "execute_result"
    }
   ],
   "source": [
    "df.head()"
   ]
  },
  {
   "cell_type": "markdown",
   "metadata": {},
   "source": [
    "The following cell creates three `series` objects called `pur`, `sex`, and `age`. Each of these `series` represents one of the three collumns in the data frame `df`.  "
   ]
  },
  {
   "cell_type": "code",
   "execution_count": 3,
   "metadata": {
    "collapsed": true
   },
   "outputs": [],
   "source": [
    "pur = df['Purchase']\n",
    "sex = df['Sex']\n",
    "age = df['AgeGroup']"
   ]
  },
  {
   "cell_type": "markdown",
   "metadata": {},
   "source": [
    "Before building our classifier, let's start with a couple of warmup problems. Assume that `mySeries` is a series, and `X` is a variable that contains a possible value of `mySeries`. We can count the number of elements in `mySeries` that are equal to `X` by using the following code:\n",
    "\n",
    "    sum( mySeries == X )\n",
    "    \n",
    "Find the number of customers in the study who fall into age group `B`. "
   ]
  },
  {
   "cell_type": "code",
   "execution_count": 4,
   "metadata": {},
   "outputs": [
    {
     "data": {
      "text/plain": [
       "76"
      ]
     },
     "execution_count": 4,
     "metadata": {},
     "output_type": "execute_result"
    }
   ],
   "source": [
    "sum(age == 'B')"
   ]
  },
  {
   "cell_type": "markdown",
   "metadata": {},
   "source": [
    "Now, assume that we have two series, `seriesA` and `seriesB`, and assume that the entries of the two series are paired so that for each `i`, `seriesA[i]` and `seriesB[i]` record information for the same individual. We can count the number of entries for which `seriesA` is equal to `X` and `seriesB` is simulataneously equal to `Y` as follows:\n",
    "\n",
    "    sum( (seriesA == X) & (seriesB == Y))\n",
    "    \n",
    "Find the number of customers in the survey who are female, and who made purchases. "
   ]
  },
  {
   "cell_type": "code",
   "execution_count": 5,
   "metadata": {
    "scrolled": true
   },
   "outputs": [
    {
     "data": {
      "text/plain": [
       "50"
      ]
     },
     "execution_count": 5,
     "metadata": {},
     "output_type": "execute_result"
    }
   ],
   "source": [
    "sum( (sex == 'F') & (pur == 1))"
   ]
  },
  {
   "cell_type": "markdown",
   "metadata": {},
   "source": [
    "Our first task in building our classifier is to write a function that calculates conditional probabilities. In the cell below, create a function called `condProb()`. The function should take four arguments: `seriesX`, `X`, `seriesY`, and `Y`. \n",
    "\n",
    "The function should return the following conditional probability: $P ( seriesX = X\\ \\ |\\ \\ seriesY = Y)$. \n",
    "\n",
    "That is, the return value should be equal to the probability that `seriesX` is equal to `X` given that `seriesY` is equal to `Y`. "
   ]
  },
  {
   "cell_type": "code",
   "execution_count": 6,
   "metadata": {
    "collapsed": true
   },
   "outputs": [],
   "source": [
    "def condProb(seriesX, X, seriesY, Y):\n",
    "        \n",
    "    numXY = sum((seriesX == X) & (seriesY == Y)) \n",
    "    numY = sum(seriesY == Y)\n",
    "    \n",
    "    return numXY / numY"
   ]
  },
  {
   "cell_type": "markdown",
   "metadata": {},
   "source": [
    "Calculate the conditional probability that a customer is female, given that they made a purchase. "
   ]
  },
  {
   "cell_type": "code",
   "execution_count": 7,
   "metadata": {},
   "outputs": [
    {
     "data": {
      "text/plain": [
       "0.41666666666666669"
      ]
     },
     "execution_count": 7,
     "metadata": {},
     "output_type": "execute_result"
    }
   ],
   "source": [
    "condProb(sex, 'F', pur, 1)"
   ]
  },
  {
   "cell_type": "markdown",
   "metadata": {},
   "source": [
    "We are now ready to construct our Naive Bayes classifer. In the cell below, write a function called `predPurchase` that takes two arguments: `givenSex` and `giveAge`. The function should calculate the following two scores:\n",
    "\n",
    "* `score0` measures the likelihood that a person with the supplied sex and age group will NOT buy a widget.\n",
    "* `score1` measures the likelihood that a person with the supplied sex and age group will buy a widget.\n",
    "\n",
    "Based on these scores, the function should make a prediction regarding whether or not the customer will make a purchase. It should return either a 0 or a 1, as follows:\n",
    "\n",
    "* The function should return a value of 0 if it predicts that the customer will NOT buy a widget.\n",
    "* The function should return a value of 1 if it predicts that the customer will buy a widget."
   ]
  },
  {
   "cell_type": "code",
   "execution_count": 8,
   "metadata": {
    "collapsed": true
   },
   "outputs": [],
   "source": [
    "def predPurchase(givenSex, givenAge):\n",
    "    score0 = condProb(sex, givenSex, pur, 0) * condProb(age, givenAge, pur, 0) * sum(pur == 0)\n",
    "    score1 = condProb(sex, givenSex, pur, 1) * condProb(age, givenAge, pur, 1) * sum(pur == 1)\n",
    "    if score0 >score1:\n",
    "        return 0\n",
    "    else:\n",
    "        return 1"
   ]
  },
  {
   "cell_type": "markdown",
   "metadata": {},
   "source": [
    "Print the outcome of the classifier(either 0 or 1) for each of the six possible groups of people:\n",
    "\n",
    "1. sex = 'M', age = 'A'\n",
    "2. sex = 'M', age = 'B'\n",
    "3. sex = 'M', age = 'C'\n",
    "4. sex = 'F', age = 'A'\n",
    "5. sex = 'F', age = 'B'\n",
    "6. sex = 'F', age = 'C'\n"
   ]
  },
  {
   "cell_type": "code",
   "execution_count": 9,
   "metadata": {},
   "outputs": [
    {
     "name": "stdout",
     "output_type": "stream",
     "text": [
      "0\n",
      "1\n",
      "1\n",
      "0\n",
      "0\n",
      "1\n"
     ]
    }
   ],
   "source": [
    "print(predPurchase('M', 'A'))\n",
    "print(predPurchase('M', 'B'))\n",
    "print(predPurchase('M', 'C'))\n",
    "print(predPurchase('F', 'A'))\n",
    "print(predPurchase('F', 'B'))\n",
    "print(predPurchase('F', 'C'))"
   ]
  },
  {
   "cell_type": "markdown",
   "metadata": {},
   "source": [
    "We will now see how well the classifier performs on our original data set. Create the following four variables: `tPos`, `fPos`, `tNeg`, and `fNeg`. The variables are intended to refer to the following quantities:\n",
    "\n",
    "* `tPos` is the number of **true positives**. It records the number of people in our dataset that the classifier predicted would buy a widget, and that actually did so. \n",
    "* `fPos` is the number of **false positives**. It records the number of people in our dataset that the classifier predicted would buy a widget, but that did NOT actually buy one. \n",
    "* `tNeg` is the number of **true negative**. It records the number of people in our dataset that the classifier predicted would NOT buy a widget, and that did NOT buy one. \n",
    "* `fNeg` is the number of **false negatives**. It records the number of people in our dataset that the classifier predicted would NOT buy a widget, but that did actually buy one.\n",
    "\n",
    "Write a loop that considers each customer in the survey. For each customer, use the classifier to make a prediction for that customer, storing the prediction (either 0 or 1) in a variable called `pred`. Then determine which of the four categories described above the person belongs in, and increment the relevant count. \n",
    "\n",
    "After the loop is finished executing, print the following four lines, with the bracketed values replaced as appropriate.\n",
    "\n",
    "    The number of true positives is [tPos].\n",
    "    The number of false positives is [fPos].\n",
    "    The number of true negatives is [tNeg].\n",
    "    The number of false negatives is [fNeg]."
   ]
  },
  {
   "cell_type": "code",
   "execution_count": 10,
   "metadata": {},
   "outputs": [
    {
     "name": "stdout",
     "output_type": "stream",
     "text": [
      "The number of true positives is 96.\n",
      "The number of false positives is 16.\n",
      "The number of true negatives is 64.\n",
      "The number of false negatives is 24.\n"
     ]
    }
   ],
   "source": [
    "tPos = 0\n",
    "fPos = 0\n",
    "tNeg = 0\n",
    "fNeg = 0\n",
    "\n",
    "for i in range(0, len(sex)):\n",
    "    pred = predPurchase(sex[i], age[i])\n",
    "    if (pred == 0) & (pur[i] == 0):\n",
    "        tNeg += 1\n",
    "    elif (pred == 1) & (pur[i] == 1):\n",
    "        tPos += 1\n",
    "    elif (pred == 1) & (pur[i] == 0):\n",
    "        fPos += 1\n",
    "    else:\n",
    "        fNeg += 1\n",
    "print(\"The number of true positives is \" + str(tPos) + \".\")\n",
    "print(\"The number of false positives is \" + str(fPos) + \".\")\n",
    "print(\"The number of true negatives is \" + str(tNeg) + \".\")\n",
    "print(\"The number of false negatives is \" + str(fNeg) + \".\")"
   ]
  },
  {
   "cell_type": "markdown",
   "metadata": {},
   "source": [
    "We can measure the effectiveness of a classifier by calculating its **accuracy** and its **precision**. \n",
    "\n",
    "* The **accuracy** of a model is defined as the number of correct classifications divided by the total number of observations. That is to say that: $acc = \\frac{tPos + tNeg}{tPos + tNeg + fPos + fNeg}$\n",
    "* The **precision** of a model is defined as the number of true positives divided by the total number of times that it predicted a positive result. That is to say that: $prec = \\frac{tPos}{tPos + fPos}$\n",
    "\n",
    "So, the accuracy of the model measures the probability that the model will make the correct classification. The precision of the model measures the probability that the model will correctly classify a positive result. \n",
    "\n",
    "Calculate the variables `acc` and `prec` and then print the following two sentences.\n",
    "\n",
    "    The accuracy of our model is [acc, rounded to four decimal places].\n",
    "    The accuracy of our model is [prec, rounded to four decimal places]."
   ]
  },
  {
   "cell_type": "code",
   "execution_count": 11,
   "metadata": {},
   "outputs": [
    {
     "name": "stdout",
     "output_type": "stream",
     "text": [
      "The accuracy of our models is 0.8.\n",
      "The precision of our model is 0.8571.\n"
     ]
    }
   ],
   "source": [
    "acc = (tPos + tNeg) / (tPos + tNeg + fPos  +fNeg)\n",
    "precc = (tPos) / (tPos + fPos)\n",
    "print(\"The accuracy of our models is \" + str(round(acc,4)) + \".\")\n",
    "print(\"The precision of our model is \" + str(round(precc,4)) + \".\")"
   ]
  }
 ],
 "metadata": {
  "kernelspec": {
   "display_name": "Python 3",
   "language": "python",
   "name": "python3"
  },
  "language_info": {
   "codemirror_mode": {
    "name": "ipython",
    "version": 3
   },
   "file_extension": ".py",
   "mimetype": "text/x-python",
   "name": "python",
   "nbconvert_exporter": "python",
   "pygments_lexer": "ipython3",
   "version": "3.6.1"
  }
 },
 "nbformat": 4,
 "nbformat_minor": 2
}
