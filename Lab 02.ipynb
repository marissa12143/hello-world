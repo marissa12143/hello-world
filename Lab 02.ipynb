{
 "cells": [
  {
   "cell_type": "markdown",
   "metadata": {},
   "source": [
    "## Lab 02\n",
    "** CSC 19900 - Introduction to Data Science**\n",
    "\n",
    "** Friday, Oct. 6**"
   ]
  },
  {
   "cell_type": "markdown",
   "metadata": {},
   "source": [
    "### Part 1\n",
    "\n",
    "The cell below creates a list named `E` that contains several randomly generated floating point numbers.Run this cell as is."
   ]
  },
  {
   "cell_type": "code",
   "execution_count": 23,
   "metadata": {
    "collapsed": true
   },
   "outputs": [],
   "source": [
    "import numpy as np\n",
    "np.random.seed(1)\n",
    "E = np.random.uniform(-2,2,128)"
   ]
  },
  {
   "cell_type": "markdown",
   "metadata": {},
   "source": [
    "Write a loop that calculcates the sum of the square of each of the elements in `E`, storing the result in a variable called `SSE` (which stands for the sum of the squares of `E`). In other words, when your code is finished running, the variable `SSE` should be defined as follows:\n",
    "\n",
    "$SSE = (E[0])^2 + (E[1])^2 + (E[2])^2 + ...+ (E[k])^2$\n",
    "\n",
    "**Print `SSE`.**\n"
   ]
  },
  {
   "cell_type": "code",
   "execution_count": 59,
   "metadata": {},
   "outputs": [
    {
     "name": "stdout",
     "output_type": "stream",
     "text": [
      "0\n"
     ]
    }
   ],
   "source": [
    "E = ()\n",
    "SSE = 0\n",
    "for i in range(0, len(E)):\n",
    "    temp = E[i]**2\n",
    "    E.append(temp)\n",
    "    E.append(SSE)\n",
    "\n",
    "print(SSE)  "
   ]
  },
  {
   "cell_type": "markdown",
   "metadata": {},
   "source": [
    "### Part 2\n",
    "The cell below creates two randomly generated integer lists `A` and `B`. The two lists have of the same (unknown) size. **Run this cell as is.**"
   ]
  },
  {
   "cell_type": "code",
   "execution_count": 3,
   "metadata": {
    "collapsed": true
   },
   "outputs": [],
   "source": [
    "np.random.seed(1)\n",
    "n = np.random.choice(200,1)+100\n",
    "A = np.random.choice(1000, n)\n",
    "B = np.random.choice(1000, n)"
   ]
  },
  {
   "cell_type": "markdown",
   "metadata": {},
   "source": [
    "Create a new list, called `C`. Each element of this list should be the **minimum** of the two associated elements of `A` and `B`. \n",
    "\n",
    "For example, if `A` and `B` were defined as follows:\n",
    "\n",
    "    A = [5, 8, 3, 4, 7]\n",
    "    B = [9, 2, 1, 6, 3]\n",
    "\n",
    "Then `C` should be equal to:\n",
    "    \n",
    "    C = [5, 2, 1, 4, 3]\n",
    "    \n",
    "You may use the function `min(x,y)`, which returns the minimum of the numbers `x` and `y`.\n",
    "\n",
    "*However,* if you can write your code without using the `min()` function, I will award you 5 bonus points.\n",
    "\n",
    "**Use slicing to print the first 10 elements of this list. **\n"
   ]
  },
  {
   "cell_type": "code",
   "execution_count": 17,
   "metadata": {},
   "outputs": [
    {
     "ename": "SyntaxError",
     "evalue": "invalid syntax (<ipython-input-17-89762b88a78f>, line 2)",
     "output_type": "error",
     "traceback": [
      "\u001b[1;36m  File \u001b[1;32m\"<ipython-input-17-89762b88a78f>\"\u001b[1;36m, line \u001b[1;32m2\u001b[0m\n\u001b[1;33m    print(min[A](0,2)\u001b[0m\n\u001b[1;37m        ^\u001b[0m\n\u001b[1;31mSyntaxError\u001b[0m\u001b[1;31m:\u001b[0m invalid syntax\n"
     ]
    }
   ],
   "source": [
    "minA = min()\n",
    "               "
   ]
  },
  {
   "cell_type": "markdown",
   "metadata": {},
   "source": [
    "### Part 3\n",
    "\n",
    "The cell below randomly generates a list of integers between 1 - 60, called `scores`. Run this cell as is."
   ]
  },
  {
   "cell_type": "code",
   "execution_count": 19,
   "metadata": {
    "collapsed": true
   },
   "outputs": [],
   "source": [
    "np.random.seed(173)\n",
    "n = np.random.choice(600,1) + 1000\n",
    "scores = np.random.choice(60, n, replace=True) + 1"
   ]
  },
  {
   "cell_type": "markdown",
   "metadata": {},
   "source": [
    "An insurance company assigns each of its customers a \"risk score\" that ranges from 1 - 60. Assume that the list `scores` contains the risk scores for all of the company's customers. \n",
    "\n",
    "The company groups its customers together into the following groups:\n",
    "* **Low risk** customers have a risk score in the range 1 - 20.\n",
    "* **Medium risk** customers have a risk score in the range 21 - 40.\n",
    "* **High risk** customers have a risk score in the range 41 - 60.\n",
    "\n",
    "Create three variables called `nLow`, `nMed`, and `nHigh`. Use a loop to set the value of these variables so that `nLow` contains the number of low risk customers, `nMed` contains the number of medium risk customers, and `nHigh` contains the number of high risk customers. \n",
    "\n",
    "**Print `nLow`, `nMed`, and `nHigh`.**"
   ]
  },
  {
   "cell_type": "code",
   "execution_count": 20,
   "metadata": {},
   "outputs": [
    {
     "name": "stdout",
     "output_type": "stream",
     "text": [
      "418\n",
      "428\n",
      "385\n"
     ]
    }
   ],
   "source": [
    "nLow = 1\n",
    "nMed = 1\n",
    "nHigh = 1\n",
    "\n",
    "for i in range(1, len(scores)):\n",
    "    if scores[i] <=21:\n",
    "        nLow += 1\n",
    "    elif scores[i] <= 41:\n",
    "        nMed += 1\n",
    "    else:\n",
    "        nHigh += 1\n",
    "\n",
    "print(nLow)\n",
    "print(nMed)\n",
    "print(nHigh)"
   ]
  },
  {
   "cell_type": "markdown",
   "metadata": {},
   "source": [
    "### Part 4\n",
    "\n",
    "The code in the cell below creates two randomly generated lists called `testA` and `testB`. Run this cell without making any changes to it. "
   ]
  },
  {
   "cell_type": "code",
   "execution_count": 61,
   "metadata": {
    "collapsed": true
   },
   "outputs": [],
   "source": [
    "np.random.seed(27)\n",
    "n = np.random.choice(100) + 100\n",
    "testA = np.random.choice(['P','F'],n)\n",
    "testB = np.random.choice(['P','F'],n)"
   ]
  },
  {
   "cell_type": "markdown",
   "metadata": {
    "collapsed": true
   },
   "source": [
    "A factory asks each of its employees to take two aptitute tests. The results of each test is either \"Pass\" or \"Fail\". Assume that the lists `testA` and `testB` store the results of these tests as follows:\n",
    "* Given any index `i`, `testA[i]` and `testB[i]` store the test results for the same employee.\n",
    "* If an employee passed a particular test, then their score is recorded in the appropriate list as `P`. \n",
    "* If an employee failed a particular test, then their score is recorded in the appropriate list as `F`. \n",
    "\n",
    "Create four variables called `countAOnly`, `countBOnly`, `countBoth`, `countNone`. Write a loop to set the value of these variables so that:\n",
    "* `countAOnly` contains the number of employess that passed Test A, but failed Test B. \n",
    "* `countBOnly` contains the number of employess that passed Test B, but failed Test A. \n",
    "* `countBoth` contains the number of employess that passed both exams. \n",
    "* `countNone` contains the number of employess that did not pass either exam. \n",
    "\n",
    "When you are done, print the following statements, with the appropriate values substituted in for the variable names (and without the surrounding brackets):\n",
    "\n",
    "    [countAOnly] employees passed only Test A. \n",
    "    [countAOnly] employees passed only Test B. \n",
    "    [countBoth] employees passed both exams. \n",
    "    [countNone] employees passed neither exam. "
   ]
  },
  {
   "cell_type": "code",
   "execution_count": 64,
   "metadata": {},
   "outputs": [
    {
     "ename": "NameError",
     "evalue": "name 'p' is not defined",
     "output_type": "error",
     "traceback": [
      "\u001b[1;31m---------------------------------------------------------------------------\u001b[0m",
      "\u001b[1;31mNameError\u001b[0m                                 Traceback (most recent call last)",
      "\u001b[1;32m<ipython-input-64-3b297ae9f1c8>\u001b[0m in \u001b[0;36m<module>\u001b[1;34m()\u001b[0m\n\u001b[0;32m      5\u001b[0m \u001b[1;33m\u001b[0m\u001b[0m\n\u001b[0;32m      6\u001b[0m \u001b[1;32mfor\u001b[0m \u001b[0mi\u001b[0m \u001b[1;32min\u001b[0m \u001b[0mrange\u001b[0m\u001b[1;33m(\u001b[0m\u001b[1;36m0\u001b[0m\u001b[1;33m,\u001b[0m \u001b[0mlen\u001b[0m\u001b[1;33m(\u001b[0m\u001b[0mtestA\u001b[0m\u001b[1;33m)\u001b[0m\u001b[1;33m)\u001b[0m\u001b[1;33m:\u001b[0m\u001b[1;33m\u001b[0m\u001b[0m\n\u001b[1;32m----> 7\u001b[1;33m     \u001b[1;32mif\u001b[0m \u001b[0mtestA\u001b[0m\u001b[1;33m[\u001b[0m\u001b[0mi\u001b[0m\u001b[1;33m]\u001b[0m \u001b[1;33m==\u001b[0m \u001b[0mp\u001b[0m\u001b[1;33m:\u001b[0m\u001b[1;33m\u001b[0m\u001b[0m\n\u001b[0m\u001b[0;32m      8\u001b[0m         \u001b[0mcountAOnly\u001b[0m \u001b[1;33m+=\u001b[0m \u001b[1;36m1\u001b[0m\u001b[1;33m\u001b[0m\u001b[0m\n\u001b[0;32m      9\u001b[0m         \u001b[1;32mif\u001b[0m \u001b[0mtestA\u001b[0m\u001b[1;33m[\u001b[0m\u001b[0mi\u001b[0m\u001b[1;33m]\u001b[0m \u001b[1;33m==\u001b[0m \u001b[0mf\u001b[0m\u001b[1;33m:\u001b[0m\u001b[1;33m\u001b[0m\u001b[0m\n",
      "\u001b[1;31mNameError\u001b[0m: name 'p' is not defined"
     ]
    }
   ],
   "source": [
    "countAOnly = 0\n",
    "countBOnly = 0\n",
    "countBoth = 0\n",
    "countNone = 0\n",
    "\n",
    "for i in range(0, len(testA)):\n",
    "    if testA[i] == p:\n",
    "        countAOnly += 1\n",
    "        if testA[i] == f:\n",
    "            countBOnly += 1\n",
    "    elif testA[i] == p and testB[i] == p:\n",
    "        countBoth += 1\n",
    "    elif testA[i] == f and testB[i] == f:\n",
    "        countNone += 1\n",
    "print(str(countAOnly) + \" employees passed only Test A.\")\n",
    "print(str(countBOnly) + \" employees passed only Test B.\")\n",
    "print(str(countBoth) + \" employees passed both exams.\")\n",
    "print(str(countNone) + \" employees passed neither exam.\")"
   ]
  }
 ],
 "metadata": {
  "kernelspec": {
   "display_name": "Python 3",
   "language": "python",
   "name": "python3"
  },
  "language_info": {
   "codemirror_mode": {
    "name": "ipython",
    "version": 3
   },
   "file_extension": ".py",
   "mimetype": "text/x-python",
   "name": "python",
   "nbconvert_exporter": "python",
   "pygments_lexer": "ipython3",
   "version": "3.6.1"
  }
 },
 "nbformat": 4,
 "nbformat_minor": 2
}
